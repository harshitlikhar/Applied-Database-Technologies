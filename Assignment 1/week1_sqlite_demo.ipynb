{
 "cells": [
  {
   "cell_type": "markdown",
   "metadata": {
    "id": "-iiCiCLWU67T"
   },
   "source": [
    "# Week 1 Practice"
   ]
  },
  {
   "cell_type": "markdown",
   "metadata": {
    "id": "Scodf48YU67W"
   },
   "source": [
    "You will need:\n",
    "- Chapter 1 (SQL Cook Book). In this notebook you will be practicing the code provided in the chapter.\n",
    "- Download emp.csv and dept.csv from the canvas Week 1 Practice\n",
    "\n",
    "************\n",
    "- Step 1-4: You will create a database week1.db\n",
    "- Step 5: Practice Chapter 1 code\n",
    "- Step 6: Close db connection\n",
    "- Step 7: Open db connection using week1.db (you do not need step1-4 aanymore)"
   ]
  },
  {
   "cell_type": "code",
   "execution_count": 1,
   "metadata": {
    "id": "tZ9Nv-IlU67X"
   },
   "outputs": [],
   "source": [
    "import sqlite3\n",
    "import pandas as pd"
   ]
  },
  {
   "cell_type": "markdown",
   "metadata": {
    "id": "299rzzVMU67Y"
   },
   "source": [
    "STEP 1. Create a database named week1. You shsold have a new file week1.db in your local directory."
   ]
  },
  {
   "cell_type": "code",
   "execution_count": 2,
   "metadata": {
    "id": "dRuBoojeU67Y"
   },
   "outputs": [],
   "source": [
    "conn = sqlite3.connect('week1.db')  \n",
    "c = conn.cursor()"
   ]
  },
  {
   "cell_type": "markdown",
   "metadata": {
    "id": "-xCS-6bOU67Z"
   },
   "source": [
    "STEP 2. Read emp.csv and create a table emp"
   ]
  },
  {
   "cell_type": "code",
   "execution_count": 3,
   "metadata": {
    "id": "QxfsH5NDU67Z"
   },
   "outputs": [],
   "source": [
    "read_emp = pd.read_csv(r'emp.csv')\n",
    "read_emp.to_sql('emp', conn, if_exists='append', index = False) # Insert the values from the csv file into the table 'emp' "
   ]
  },
  {
   "cell_type": "markdown",
   "metadata": {
    "id": "BoOFOwD9U67a"
   },
   "source": [
    "STEP 3. read dept.csv and create a table dept"
   ]
  },
  {
   "cell_type": "code",
   "execution_count": 4,
   "metadata": {
    "id": "6AmLVJznU67b"
   },
   "outputs": [],
   "source": [
    "read_dept = pd.read_csv(r'dept.csv')\n",
    "read_dept.to_sql('dept', conn, if_exists='append', index = False) # Insert the values from the csv file into the table 'dept' "
   ]
  },
  {
   "cell_type": "markdown",
   "metadata": {
    "id": "-Vrc-r6wU67b"
   },
   "source": [
    "Execution Examples"
   ]
  },
  {
   "cell_type": "markdown",
   "metadata": {
    "id": "LeBeb640U67c"
   },
   "source": [
    "SQL statements will be executed with \n",
    "\n",
    "c.execute('''\n",
    "SQL code\n",
    "''')"
   ]
  },
  {
   "cell_type": "code",
   "execution_count": 5,
   "metadata": {
    "colab": {
     "base_uri": "https://localhost:8080/"
    },
    "id": "wzYv05YFU67c",
    "outputId": "771049fb-c1d0-44d0-ac0e-3e68a65b0009"
   },
   "outputs": [
    {
     "name": "stdout",
     "output_type": "stream",
     "text": [
      "(7369, 'SMITH', 'CLERK', 7902.0, '17-Dec-05', 800, None, 20)\n",
      "(7499, 'ALLEN', 'SALESMAN', 7698.0, '20-Feb-06', 1600, 300.0, 30)\n",
      "(7521, 'WARD', 'SALESMAN', 7698.0, '22-Feb-06', 1250, 500.0, 30)\n",
      "(7566, 'JONES', 'MANAGER', 7839.0, '2-Apr-06', 2975, None, 20)\n",
      "(7654, 'MARTIN', 'SALESMAN', 7698.0, '28-Sep-06', 1250, 1400.0, 30)\n",
      "(7698, 'BLAKE', 'MANAGER', 7839.0, '1-May-06', 2850, None, 30)\n",
      "(7782, 'CLARK', 'MANAGER', 7839.0, '9-Jun-06', 2450, None, 10)\n",
      "(7788, 'SCOTT', 'ANALYST', 7566.0, '9-Dec-07', 3000, None, 20)\n",
      "(7839, 'KING', 'PRESIDENT', None, '17-Nov-06', 5000, None, 10)\n",
      "(7844, 'TURNER', 'SALESMAN', 7698.0, '8-Sep-06', 1500, 0.0, 30)\n",
      "(7876, 'ADAMS', 'CLERK', 7788.0, '12-Jan-08', 1100, None, 20)\n",
      "(7900, 'JAMES', 'CLERK', 7698.0, '3-Dec-06', 950, None, 30)\n",
      "(7902, 'FORD', 'ANALYST', 7566.0, '3-Dec-06', 3000, None, 20)\n",
      "(7934, 'MILLER', 'CLERK', 7782.0, '23-Jan-07', 1300, None, 10)\n"
     ]
    }
   ],
   "source": [
    "#Example 1\n",
    "for row in c.execute('''\n",
    "select * from emp\n",
    "'''):\n",
    "    print(row)"
   ]
  },
  {
   "cell_type": "code",
   "execution_count": 6,
   "metadata": {
    "colab": {
     "base_uri": "https://localhost:8080/"
    },
    "id": "qqN77nOaU67d",
    "outputId": "9bb6e946-592e-4247-e6a5-29e89475b236"
   },
   "outputs": [
    {
     "name": "stdout",
     "output_type": "stream",
     "text": [
      "EMPNO\n",
      "ENAME\n",
      "JOB\n",
      "MGR\n",
      "HIREDATE\n",
      "SAL\n",
      "COMM\n",
      "DEPTNO\n"
     ]
    }
   ],
   "source": [
    "colnames = c.description\n",
    "for row in colnames:\n",
    "    print(row[0])"
   ]
  },
  {
   "cell_type": "markdown",
   "metadata": {
    "id": "PFQ4IeK6U67d"
   },
   "source": [
    "To print a table, use fetchall() to collect data and add column names thaht you have selected."
   ]
  },
  {
   "cell_type": "code",
   "execution_count": 7,
   "metadata": {
    "colab": {
     "base_uri": "https://localhost:8080/"
    },
    "id": "T7v3HHU4U67e",
    "outputId": "0154ff39-0356-4c77-ff16-03033652cce6"
   },
   "outputs": [
    {
     "name": "stdout",
     "output_type": "stream",
     "text": [
      "    EMPNO   ENAME        JOB     MGR   HIREDATE   SAL    COMM  DEPTNO\n",
      "0    7369   SMITH      CLERK  7902.0  17-Dec-05   800     NaN      20\n",
      "1    7499   ALLEN   SALESMAN  7698.0  20-Feb-06  1600   300.0      30\n",
      "2    7521    WARD   SALESMAN  7698.0  22-Feb-06  1250   500.0      30\n",
      "3    7566   JONES    MANAGER  7839.0   2-Apr-06  2975     NaN      20\n",
      "4    7654  MARTIN   SALESMAN  7698.0  28-Sep-06  1250  1400.0      30\n",
      "5    7698   BLAKE    MANAGER  7839.0   1-May-06  2850     NaN      30\n",
      "6    7782   CLARK    MANAGER  7839.0   9-Jun-06  2450     NaN      10\n",
      "7    7788   SCOTT    ANALYST  7566.0   9-Dec-07  3000     NaN      20\n",
      "8    7839    KING  PRESIDENT     NaN  17-Nov-06  5000     NaN      10\n",
      "9    7844  TURNER   SALESMAN  7698.0   8-Sep-06  1500     0.0      30\n",
      "10   7876   ADAMS      CLERK  7788.0  12-Jan-08  1100     NaN      20\n",
      "11   7900   JAMES      CLERK  7698.0   3-Dec-06   950     NaN      30\n",
      "12   7902    FORD    ANALYST  7566.0   3-Dec-06  3000     NaN      20\n",
      "13   7934  MILLER      CLERK  7782.0  23-Jan-07  1300     NaN      10\n"
     ]
    }
   ],
   "source": [
    "# Example 2\n",
    "c.execute('''\n",
    "select * from emp\n",
    "''')\n",
    "\n",
    "df = pd.DataFrame(c.fetchall(), columns=['EMPNO',\n",
    "'ENAME',\n",
    "'JOB',\n",
    "'MGR',\n",
    "'HIREDATE',\n",
    "'SAL',\n",
    "'COMM',\n",
    "'DEPTNO'])\n",
    "print(df)"
   ]
  },
  {
   "cell_type": "markdown",
   "metadata": {
    "id": "HyXMTSj2U67e"
   },
   "source": [
    "### Basics of SQL Queries  \n",
    "\n",
    "**SELECT**: Statement used to select rows and columns from a database. \n",
    "\n",
    "**FROM**:  Specifies which table in the database you want to direct your query to.\n",
    "\n",
    "**WHERE**: Clause for filtering for specified value(s).\n",
    "\n",
    "**GROUP BY**: Aggregating data. Needs to be used in conjunction with SQL aggregating functions like `SUM` and `COUNT`.\n",
    "\n",
    "**ORDER BY**: Sorting columns in the database. \n",
    "\n",
    "**JOIN**: Joins are used to combine tables with one another. \n",
    "\n",
    "**UNION**, **INTERSECT/EXCEPT**: Set operations. Unioning in SQL allows one to append tables on top of one another. "
   ]
  },
  {
   "cell_type": "markdown",
   "metadata": {
    "id": "CHgQ94orU67f"
   },
   "source": [
    "### Step 5. Practice Chapter 1"
   ]
  },
  {
   "cell_type": "code",
   "execution_count": 8,
   "metadata": {
    "id": "Xj-gHLvpU67f"
   },
   "outputs": [],
   "source": [
    "## Your turn"
   ]
  },
  {
   "cell_type": "markdown",
   "metadata": {
    "id": "2n3ly8PPU67g"
   },
   "source": [
    "### Step 6. Close the connection"
   ]
  },
  {
   "cell_type": "code",
   "execution_count": 9,
   "metadata": {
    "id": "omaRTqnoU67g"
   },
   "outputs": [],
   "source": [
    "conn.close()"
   ]
  },
  {
   "cell_type": "markdown",
   "metadata": {
    "id": "Kihfng6jU67g"
   },
   "source": [
    "### Step 7. Open connection with your database week1.db"
   ]
  },
  {
   "cell_type": "code",
   "execution_count": 10,
   "metadata": {
    "id": "9WtpMNEpU67h"
   },
   "outputs": [],
   "source": [
    "conn = sqlite3.connect('week1.db')\n",
    "c = conn.cursor()"
   ]
  },
  {
   "cell_type": "code",
   "execution_count": 11,
   "metadata": {
    "id": "yj6yuSaIU67h"
   },
   "outputs": [],
   "source": [
    "## You can continue working with SQL coding now"
   ]
  },
  {
   "cell_type": "code",
   "execution_count": 17,
   "metadata": {},
   "outputs": [
    {
     "name": "stdout",
     "output_type": "stream",
     "text": [
      "EMPNO\n",
      "ENAME\n",
      "JOB\n",
      "MGR\n",
      "HIREDATE\n",
      "SAL\n",
      "COMM\n",
      "DEPTNO\n"
     ]
    }
   ],
   "source": [
    "for row in c.description:\n",
    "    print(row[0])"
   ]
  },
  {
   "cell_type": "markdown",
   "metadata": {},
   "source": [
    "<h3> Question 1.1: You have a table and want to see all of the data in it. "
   ]
  },
  {
   "cell_type": "code",
   "execution_count": 12,
   "metadata": {
    "colab": {
     "base_uri": "https://localhost:8080/"
    },
    "id": "P-9-OTN9U67h",
    "outputId": "8750b1e5-e0e5-4849-d65b-2bdedbdc27b0"
   },
   "outputs": [
    {
     "name": "stdout",
     "output_type": "stream",
     "text": [
      "(7369, 'SMITH', 'CLERK', 7902.0, '17-Dec-05', 800, None, 20)\n",
      "(7499, 'ALLEN', 'SALESMAN', 7698.0, '20-Feb-06', 1600, 300.0, 30)\n",
      "(7521, 'WARD', 'SALESMAN', 7698.0, '22-Feb-06', 1250, 500.0, 30)\n",
      "(7566, 'JONES', 'MANAGER', 7839.0, '2-Apr-06', 2975, None, 20)\n",
      "(7654, 'MARTIN', 'SALESMAN', 7698.0, '28-Sep-06', 1250, 1400.0, 30)\n",
      "(7698, 'BLAKE', 'MANAGER', 7839.0, '1-May-06', 2850, None, 30)\n",
      "(7782, 'CLARK', 'MANAGER', 7839.0, '9-Jun-06', 2450, None, 10)\n",
      "(7788, 'SCOTT', 'ANALYST', 7566.0, '9-Dec-07', 3000, None, 20)\n",
      "(7839, 'KING', 'PRESIDENT', None, '17-Nov-06', 5000, None, 10)\n",
      "(7844, 'TURNER', 'SALESMAN', 7698.0, '8-Sep-06', 1500, 0.0, 30)\n",
      "(7876, 'ADAMS', 'CLERK', 7788.0, '12-Jan-08', 1100, None, 20)\n",
      "(7900, 'JAMES', 'CLERK', 7698.0, '3-Dec-06', 950, None, 30)\n",
      "(7902, 'FORD', 'ANALYST', 7566.0, '3-Dec-06', 3000, None, 20)\n",
      "(7934, 'MILLER', 'CLERK', 7782.0, '23-Jan-07', 1300, None, 10)\n"
     ]
    }
   ],
   "source": [
    "for row in c.execute('''select * from emp'''):\n",
    "    print(row)"
   ]
  },
  {
   "cell_type": "markdown",
   "metadata": {},
   "source": [
    "<h3> Question 1.2: You have a table and want to see only rows that satisfy a specific condition."
   ]
  },
  {
   "cell_type": "code",
   "execution_count": 18,
   "metadata": {
    "colab": {
     "base_uri": "https://localhost:8080/"
    },
    "id": "jINLJ9zqVcjq",
    "outputId": "7d7411e6-f2e5-464f-8bbc-b8c5e404ef82"
   },
   "outputs": [
    {
     "name": "stdout",
     "output_type": "stream",
     "text": [
      "(7369, 'SMITH', 'CLERK', 7902.0, '17-Dec-05', 800, None, 20)\n",
      "(7566, 'JONES', 'MANAGER', 7839.0, '2-Apr-06', 2975, None, 20)\n",
      "(7788, 'SCOTT', 'ANALYST', 7566.0, '9-Dec-07', 3000, None, 20)\n",
      "(7876, 'ADAMS', 'CLERK', 7788.0, '12-Jan-08', 1100, None, 20)\n",
      "(7902, 'FORD', 'ANALYST', 7566.0, '3-Dec-06', 3000, None, 20)\n"
     ]
    }
   ],
   "source": [
    "for row in c.execute('''select * from emp where deptno=20'''):\n",
    "    print(row)"
   ]
  },
  {
   "cell_type": "markdown",
   "metadata": {},
   "source": [
    "<h3> Question 1.3: You want to return rows that satisfy multiple conditions."
   ]
  },
  {
   "cell_type": "code",
   "execution_count": 27,
   "metadata": {
    "colab": {
     "base_uri": "https://localhost:8080/"
    },
    "id": "VtRvjfK1V6KR",
    "outputId": "6538ee54-bd81-42f7-e6d0-05142c825b91"
   },
   "outputs": [
    {
     "name": "stdout",
     "output_type": "stream",
     "text": [
      "(7369, 'SMITH', 'CLERK', 7902.0, '17-Dec-05', 800, None, 20)\n",
      "(7876, 'ADAMS', 'CLERK', 7788.0, '12-Jan-08', 1100, None, 20)\n",
      "(7900, 'JAMES', 'CLERK', 7698.0, '3-Dec-06', 950, None, 30)\n",
      "(7934, 'MILLER', 'CLERK', 7782.0, '23-Jan-07', 1300, None, 10)\n"
     ]
    }
   ],
   "source": [
    "for row in c.execute('''select * from emp where ((deptno=20 \n",
    "                        and comm is not null)\n",
    "                        or sal <= 2000) and job = \"CLERK\" '''):\n",
    "    print(row)"
   ]
  },
  {
   "cell_type": "markdown",
   "metadata": {
    "id": "F8Wvor-mWdfL"
   },
   "source": [
    "##### Return specific colulmns"
   ]
  },
  {
   "cell_type": "markdown",
   "metadata": {},
   "source": [
    "<h3> Question 1.4: You  have  a  table  and  want  to  see  values  for  specific  columns  rather  than  for  all  the\n",
    "columns."
   ]
  },
  {
   "cell_type": "code",
   "execution_count": 28,
   "metadata": {
    "colab": {
     "base_uri": "https://localhost:8080/"
    },
    "id": "Qa-M0yynWiti",
    "outputId": "ae30551d-e33e-4435-ffd5-73c6cc5143df"
   },
   "outputs": [
    {
     "name": "stdout",
     "output_type": "stream",
     "text": [
      "('SMITH', 20, 800, 'CLERK')\n",
      "('ALLEN', 30, 1600, 'SALESMAN')\n",
      "('WARD', 30, 1250, 'SALESMAN')\n",
      "('JONES', 20, 2975, 'MANAGER')\n",
      "('MARTIN', 30, 1250, 'SALESMAN')\n",
      "('BLAKE', 30, 2850, 'MANAGER')\n",
      "('CLARK', 10, 2450, 'MANAGER')\n",
      "('SCOTT', 20, 3000, 'ANALYST')\n",
      "('KING', 10, 5000, 'PRESIDENT')\n",
      "('TURNER', 30, 1500, 'SALESMAN')\n",
      "('ADAMS', 20, 1100, 'CLERK')\n",
      "('JAMES', 30, 950, 'CLERK')\n",
      "('FORD', 20, 3000, 'ANALYST')\n",
      "('MILLER', 10, 1300, 'CLERK')\n"
     ]
    }
   ],
   "source": [
    "for row in c.execute('''SELECT ename, deptno, sal, Job from emp'''):\n",
    "    print(row)"
   ]
  },
  {
   "cell_type": "markdown",
   "metadata": {},
   "source": [
    "<h3> Question 1.5: You would like to change the names of the columns that are returned by your query so  they  are  more  readable  and  understandable.  Consider  this  query  that  returns  the salaries and commissions for each employee:</h3>\n",
    "1 select sal,comm <br>\n",
    "2   from emp <br>\n",
    "What’s SAL? Is it short for sale? Is it someone’s name? What’s COMM? Is it communi‐\n",
    "cation? You want the results to have more meaningful labels."
   ]
  },
  {
   "cell_type": "markdown",
   "metadata": {
    "id": "x1oxaE-cWqWh"
   },
   "source": [
    "##### To change the names of the columns using AS keyword. This is known as aliasing. "
   ]
  },
  {
   "cell_type": "code",
   "execution_count": 13,
   "metadata": {
    "colab": {
     "base_uri": "https://localhost:8080/"
    },
    "id": "6ZyQEeWwXDM0",
    "outputId": "f15c5ab2-3b3b-439e-af10-9a6e637462c0"
   },
   "outputs": [
    {
     "name": "stdout",
     "output_type": "stream",
     "text": [
      "    SALARY  COMMISSION\n",
      "0      800         NaN\n",
      "1     1600       300.0\n",
      "2     1250       500.0\n",
      "3     2975         NaN\n",
      "4     1250      1400.0\n",
      "5     2850         NaN\n",
      "6     2450         NaN\n",
      "7     3000         NaN\n",
      "8     5000         NaN\n",
      "9     1500         0.0\n",
      "10    1100         NaN\n",
      "11     950         NaN\n",
      "12    3000         NaN\n",
      "13    1300         NaN\n"
     ]
    }
   ],
   "source": [
    "c.execute('''SELECT sal AS salary, comm AS commission FROM emp''')\n",
    "\n",
    "df = pd.DataFrame(c.fetchall(), columns=['SALARY', 'COMMISSION'])    \n",
    "print(df)"
   ]
  }
 ],
 "metadata": {
  "colab": {
   "collapsed_sections": [],
   "name": "week1-sqlite.ipynb",
   "provenance": [],
   "toc_visible": true
  },
  "kernelspec": {
   "display_name": "Python 3",
   "language": "python",
   "name": "python3"
  },
  "language_info": {
   "codemirror_mode": {
    "name": "ipython",
    "version": 3
   },
   "file_extension": ".py",
   "mimetype": "text/x-python",
   "name": "python",
   "nbconvert_exporter": "python",
   "pygments_lexer": "ipython3",
   "version": "3.8.8"
  }
 },
 "nbformat": 4,
 "nbformat_minor": 4
}
